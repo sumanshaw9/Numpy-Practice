{
  "nbformat": 4,
  "nbformat_minor": 0,
  "metadata": {
    "colab": {
      "provenance": [],
      "authorship_tag": "ABX9TyOlN6F8JpZET+hXRn8XoeSt"
    },
    "kernelspec": {
      "name": "python3",
      "display_name": "Python 3"
    },
    "language_info": {
      "name": "python"
    }
  },
  "cells": [
    {
      "cell_type": "markdown",
      "source": [
        "**1. Create a 3x3 NumPy array with random integers between 1 and 100. Then, interchange its rows and columns**"
      ],
      "metadata": {
        "id": "XNbgKJ7wcco2"
      }
    },
    {
      "cell_type": "code",
      "source": [
        "import numpy as np\n",
        "import random\n",
        "arr= np.random.randint(1,100,size=(3,3))\n",
        "arr"
      ],
      "metadata": {
        "colab": {
          "base_uri": "https://localhost:8080/"
        },
        "id": "m_56DP8jcpcF",
        "outputId": "ec1790fb-0143-4e83-9af0-273d8cd9daf1"
      },
      "execution_count": 1,
      "outputs": [
        {
          "output_type": "execute_result",
          "data": {
            "text/plain": [
              "array([[67, 76, 27],\n",
              "       [70, 46, 96],\n",
              "       [84, 31, 24]])"
            ]
          },
          "metadata": {},
          "execution_count": 1
        }
      ]
    },
    {
      "cell_type": "code",
      "execution_count": 5,
      "metadata": {
        "colab": {
          "base_uri": "https://localhost:8080/"
        },
        "id": "FYd3bKELcXnf",
        "outputId": "e563449b-8277-427e-b7c0-54a9dc0d8879"
      },
      "outputs": [
        {
          "output_type": "execute_result",
          "data": {
            "text/plain": [
              "array([[67, 70, 84],\n",
              "       [76, 46, 31],\n",
              "       [27, 96, 24]])"
            ]
          },
          "metadata": {},
          "execution_count": 5
        }
      ],
      "source": [
        "arr.T  #converting rows to columns and columns to rows using transpose"
      ]
    },
    {
      "cell_type": "markdown",
      "source": [
        "**2. Generate a 1D NumPy array with 10 elements. Reshape it into a 2x5 array, then into a 5x2 array.**"
      ],
      "metadata": {
        "id": "ipdq-zR0d3q0"
      }
    },
    {
      "cell_type": "code",
      "source": [
        "arr=np.arange(0,10) #uses NumPy's arange function to generate the 1D array\n",
        "arr"
      ],
      "metadata": {
        "colab": {
          "base_uri": "https://localhost:8080/"
        },
        "id": "XOMdHlzRdIT_",
        "outputId": "3f3109ff-fe9a-417d-aad4-975f219aa70e"
      },
      "execution_count": 10,
      "outputs": [
        {
          "output_type": "execute_result",
          "data": {
            "text/plain": [
              "array([0, 1, 2, 3, 4, 5, 6, 7, 8, 9])"
            ]
          },
          "metadata": {},
          "execution_count": 10
        }
      ]
    },
    {
      "cell_type": "code",
      "source": [
        "arr.reshape(2,5) ##the reshape method to reshape it into the desired shapes"
      ],
      "metadata": {
        "colab": {
          "base_uri": "https://localhost:8080/"
        },
        "id": "7HqllGmOfQBj",
        "outputId": "2c165cde-5ffd-49a1-ea19-b28fe78d99bd"
      },
      "execution_count": 11,
      "outputs": [
        {
          "output_type": "execute_result",
          "data": {
            "text/plain": [
              "array([[0, 1, 2, 3, 4],\n",
              "       [5, 6, 7, 8, 9]])"
            ]
          },
          "metadata": {},
          "execution_count": 11
        }
      ]
    },
    {
      "cell_type": "code",
      "source": [
        "arr.reshape(5,2)"
      ],
      "metadata": {
        "colab": {
          "base_uri": "https://localhost:8080/"
        },
        "id": "aDFhl9lifdOm",
        "outputId": "ea31b235-24de-4dd6-8bfd-df2ef440eacb"
      },
      "execution_count": 12,
      "outputs": [
        {
          "output_type": "execute_result",
          "data": {
            "text/plain": [
              "array([[0, 1],\n",
              "       [2, 3],\n",
              "       [4, 5],\n",
              "       [6, 7],\n",
              "       [8, 9]])"
            ]
          },
          "metadata": {},
          "execution_count": 12
        }
      ]
    },
    {
      "cell_type": "markdown",
      "source": [
        "**3. Create a 4x4 NumPy array with random float values. Add a border of zeros around it, resulting in a 6x6 array.**"
      ],
      "metadata": {
        "id": "doXSSUHCgZU-"
      }
    },
    {
      "cell_type": "code",
      "source": [
        "arr=np.random.rand(4,4)\n",
        "arr"
      ],
      "metadata": {
        "colab": {
          "base_uri": "https://localhost:8080/"
        },
        "id": "JIEzw_k8f4lW",
        "outputId": "88353505-c6e8-4801-b099-15b561dad191"
      },
      "execution_count": 16,
      "outputs": [
        {
          "output_type": "execute_result",
          "data": {
            "text/plain": [
              "array([[0.73776106, 0.29699147, 0.11230825, 0.53984815],\n",
              "       [0.65470228, 0.07945106, 0.80271329, 0.08328346],\n",
              "       [0.13076037, 0.12176792, 0.62120499, 0.39315941],\n",
              "       [0.37621356, 0.23868736, 0.20958458, 0.59576243]])"
            ]
          },
          "metadata": {},
          "execution_count": 16
        }
      ]
    },
    {
      "cell_type": "code",
      "source": [
        "arr1=np.pad(arr,pad_width=1, mode='constant', constant_values=0) #np.pad(): Pads the array. pad_width=1 adds a border of width 1 around the array, mode='constant' specifies that the padding should be with a constant value, and constant_values=0 sets the padding value to zero."
      ],
      "metadata": {
        "id": "yTnqded1hlPH"
      },
      "execution_count": 22,
      "outputs": []
    },
    {
      "cell_type": "code",
      "source": [
        "print(arr1)"
      ],
      "metadata": {
        "colab": {
          "base_uri": "https://localhost:8080/"
        },
        "id": "rwyaOAbgkTk-",
        "outputId": "39283ddc-fc94-42a1-ea01-bf3522b2e828"
      },
      "execution_count": 25,
      "outputs": [
        {
          "output_type": "stream",
          "name": "stdout",
          "text": [
            "[[0.         0.         0.         0.         0.         0.        ]\n",
            " [0.         0.73776106 0.29699147 0.11230825 0.53984815 0.        ]\n",
            " [0.         0.65470228 0.07945106 0.80271329 0.08328346 0.        ]\n",
            " [0.         0.13076037 0.12176792 0.62120499 0.39315941 0.        ]\n",
            " [0.         0.37621356 0.23868736 0.20958458 0.59576243 0.        ]\n",
            " [0.         0.         0.         0.         0.         0.        ]]\n"
          ]
        }
      ]
    },
    {
      "cell_type": "markdown",
      "source": [
        "**4. Using NumPy, create an array of integers from 10 to 60 with a step of 5.**"
      ],
      "metadata": {
        "id": "7PUxAj6cYYRe"
      }
    },
    {
      "cell_type": "code",
      "source": [
        "import numpy as np\n",
        "arr=np.arange(10,65,5) #np.arange(start, stop, step): Generates values starting from start to stop (but not including stop), with a given step size.\n",
        "arr"
      ],
      "metadata": {
        "colab": {
          "base_uri": "https://localhost:8080/"
        },
        "id": "a-2J8-DVkVA7",
        "outputId": "09cbd4f1-bdbc-4ba8-c905-ce8242086081"
      },
      "execution_count": 3,
      "outputs": [
        {
          "output_type": "execute_result",
          "data": {
            "text/plain": [
              "array([10, 15, 20, 25, 30, 35, 40, 45, 50, 55, 60])"
            ]
          },
          "metadata": {},
          "execution_count": 3
        }
      ]
    },
    {
      "cell_type": "markdown",
      "source": [
        "**5. Create a NumPy array of strings ['python', 'numpy', 'pandas']. Apply different case transformations\n",
        "(uppercase, lowercase, title case, etc.) to each element.**"
      ],
      "metadata": {
        "id": "Cg1_nFi5ZoXK"
      }
    },
    {
      "cell_type": "code",
      "source": [
        "myarr = np.array(['python', 'numpy', 'pandas']) #given string array\n",
        "myarr"
      ],
      "metadata": {
        "colab": {
          "base_uri": "https://localhost:8080/"
        },
        "id": "dkRd6yUpkvq-",
        "outputId": "4fafd210-9c88-4650-9978-981f8dab1f24"
      },
      "execution_count": 4,
      "outputs": [
        {
          "output_type": "execute_result",
          "data": {
            "text/plain": [
              "array(['python', 'numpy', 'pandas'], dtype='<U6')"
            ]
          },
          "metadata": {},
          "execution_count": 4
        }
      ]
    },
    {
      "cell_type": "code",
      "source": [
        "np.char.upper(myarr) #transform into uppercase"
      ],
      "metadata": {
        "colab": {
          "base_uri": "https://localhost:8080/"
        },
        "id": "X9w53NZFaORk",
        "outputId": "914ed1f8-294f-46bd-addc-9e2bcc114a5e"
      },
      "execution_count": 5,
      "outputs": [
        {
          "output_type": "execute_result",
          "data": {
            "text/plain": [
              "array(['PYTHON', 'NUMPY', 'PANDAS'], dtype='<U6')"
            ]
          },
          "metadata": {},
          "execution_count": 5
        }
      ]
    },
    {
      "cell_type": "code",
      "source": [
        "np.char.lower(myarr)  #transform into lowercase"
      ],
      "metadata": {
        "colab": {
          "base_uri": "https://localhost:8080/"
        },
        "id": "IC_O2o5OaVtx",
        "outputId": "6fb6de58-3c53-4dc4-f820-71be72c18c7c"
      },
      "execution_count": 6,
      "outputs": [
        {
          "output_type": "execute_result",
          "data": {
            "text/plain": [
              "array(['python', 'numpy', 'pandas'], dtype='<U6')"
            ]
          },
          "metadata": {},
          "execution_count": 6
        }
      ]
    },
    {
      "cell_type": "code",
      "source": [
        "np.char.title(myarr)  #transform into title case"
      ],
      "metadata": {
        "colab": {
          "base_uri": "https://localhost:8080/"
        },
        "id": "5WFriJgvaZmC",
        "outputId": "2f894d71-2f16-4f59-d24a-bf4e42211b80"
      },
      "execution_count": 7,
      "outputs": [
        {
          "output_type": "execute_result",
          "data": {
            "text/plain": [
              "array(['Python', 'Numpy', 'Pandas'], dtype='<U6')"
            ]
          },
          "metadata": {},
          "execution_count": 7
        }
      ]
    },
    {
      "cell_type": "markdown",
      "source": [
        "**6. Generate a NumPy array of words. Insert a space between each character of every word in the array.**"
      ],
      "metadata": {
        "id": "3KcEetsAa2E-"
      }
    },
    {
      "cell_type": "code",
      "source": [
        "import numpy as np\n",
        "words_arr =np.array(['python','numpy','pandas'])\n",
        "words_arr"
      ],
      "metadata": {
        "colab": {
          "base_uri": "https://localhost:8080/"
        },
        "id": "ZAY2wUkTaeGD",
        "outputId": "d727b9c8-4d3a-4d06-a689-4846799cced1"
      },
      "execution_count": 13,
      "outputs": [
        {
          "output_type": "execute_result",
          "data": {
            "text/plain": [
              "array(['python', 'numpy', 'pandas'], dtype='<U6')"
            ]
          },
          "metadata": {},
          "execution_count": 13
        }
      ]
    },
    {
      "cell_type": "code",
      "source": [
        "space_words= np.char.join(\" \",words_arr)\n",
        "space_words"
      ],
      "metadata": {
        "colab": {
          "base_uri": "https://localhost:8080/"
        },
        "id": "QFI-WnfucS8t",
        "outputId": "7694be2f-65b1-44c3-efa8-aa7c5cdf2e99"
      },
      "execution_count": 14,
      "outputs": [
        {
          "output_type": "execute_result",
          "data": {
            "text/plain": [
              "array(['p y t h o n', 'n u m p y', 'p a n d a s'], dtype='<U11')"
            ]
          },
          "metadata": {},
          "execution_count": 14
        }
      ]
    },
    {
      "cell_type": "markdown",
      "source": [
        "**7. Create two 2D NumPy arrays and perform element-wise addition, subtraction, multiplication, and division.**"
      ],
      "metadata": {
        "id": "2v_VXvuluijO"
      }
    },
    {
      "cell_type": "code",
      "source": [
        "array1 = np.random.randint(1,5,(3,3)) #creating 2D first array\n",
        "array1"
      ],
      "metadata": {
        "colab": {
          "base_uri": "https://localhost:8080/"
        },
        "id": "wxxGfcA6caDO",
        "outputId": "10a19e66-21dd-451d-f4c6-88ef7d081471"
      },
      "execution_count": 15,
      "outputs": [
        {
          "output_type": "execute_result",
          "data": {
            "text/plain": [
              "array([[2, 4, 2],\n",
              "       [1, 2, 2],\n",
              "       [4, 4, 2]])"
            ]
          },
          "metadata": {},
          "execution_count": 15
        }
      ]
    },
    {
      "cell_type": "code",
      "source": [
        "array2 = np.random.randint(6,10,(3,3)) #creating 2D second array\n",
        "array2"
      ],
      "metadata": {
        "colab": {
          "base_uri": "https://localhost:8080/"
        },
        "id": "dJ1d7w8ower-",
        "outputId": "9656810e-e396-4e14-d6b5-a9bd3d24c22c"
      },
      "execution_count": 16,
      "outputs": [
        {
          "output_type": "execute_result",
          "data": {
            "text/plain": [
              "array([[6, 6, 7],\n",
              "       [9, 8, 7],\n",
              "       [6, 7, 6]])"
            ]
          },
          "metadata": {},
          "execution_count": 16
        }
      ]
    },
    {
      "cell_type": "code",
      "source": [
        "array1 + array2 #element addition"
      ],
      "metadata": {
        "colab": {
          "base_uri": "https://localhost:8080/"
        },
        "id": "wwouDF4bwpAA",
        "outputId": "d87100eb-4455-40a3-a363-d8fd0b72a525"
      },
      "execution_count": 17,
      "outputs": [
        {
          "output_type": "execute_result",
          "data": {
            "text/plain": [
              "array([[ 8, 10,  9],\n",
              "       [10, 10,  9],\n",
              "       [10, 11,  8]])"
            ]
          },
          "metadata": {},
          "execution_count": 17
        }
      ]
    },
    {
      "cell_type": "code",
      "source": [
        "array1 - array2 #subtraction"
      ],
      "metadata": {
        "colab": {
          "base_uri": "https://localhost:8080/"
        },
        "id": "MsJAzSoYwsLU",
        "outputId": "bc459149-1b3b-490d-dac2-2fed4ee1f609"
      },
      "execution_count": 18,
      "outputs": [
        {
          "output_type": "execute_result",
          "data": {
            "text/plain": [
              "array([[-4, -2, -5],\n",
              "       [-8, -6, -5],\n",
              "       [-2, -3, -4]])"
            ]
          },
          "metadata": {},
          "execution_count": 18
        }
      ]
    },
    {
      "cell_type": "code",
      "source": [
        "array1 * array2 #multiplication"
      ],
      "metadata": {
        "colab": {
          "base_uri": "https://localhost:8080/"
        },
        "id": "joLh9mWHwvny",
        "outputId": "c0b2ef2e-d468-4110-9ec1-1b016d586a9e"
      },
      "execution_count": 19,
      "outputs": [
        {
          "output_type": "execute_result",
          "data": {
            "text/plain": [
              "array([[12, 24, 14],\n",
              "       [ 9, 16, 14],\n",
              "       [24, 28, 12]])"
            ]
          },
          "metadata": {},
          "execution_count": 19
        }
      ]
    },
    {
      "cell_type": "code",
      "source": [
        "array1 / array2 #division"
      ],
      "metadata": {
        "colab": {
          "base_uri": "https://localhost:8080/"
        },
        "id": "l_8oTS9jwzGg",
        "outputId": "daadefea-0cbb-4ad9-ea6e-a76cdb636754"
      },
      "execution_count": 20,
      "outputs": [
        {
          "output_type": "execute_result",
          "data": {
            "text/plain": [
              "array([[0.33333333, 0.66666667, 0.28571429],\n",
              "       [0.11111111, 0.25      , 0.28571429],\n",
              "       [0.66666667, 0.57142857, 0.33333333]])"
            ]
          },
          "metadata": {},
          "execution_count": 20
        }
      ]
    },
    {
      "cell_type": "markdown",
      "source": [
        "**8. Use NumPy to create a 5x5 identity matrix, then extract its diagonal elements**"
      ],
      "metadata": {
        "id": "tPTdgrnaxjsd"
      }
    },
    {
      "cell_type": "code",
      "source": [
        "identity_matrix = np.eye(5,dtype=int)\n",
        "identity_matrix"
      ],
      "metadata": {
        "colab": {
          "base_uri": "https://localhost:8080/"
        },
        "id": "L7TR9dOmw3UE",
        "outputId": "eb4c5b8b-a170-4054-c9a2-184be606ae07"
      },
      "execution_count": 24,
      "outputs": [
        {
          "output_type": "execute_result",
          "data": {
            "text/plain": [
              "array([[1, 0, 0, 0, 0],\n",
              "       [0, 1, 0, 0, 0],\n",
              "       [0, 0, 1, 0, 0],\n",
              "       [0, 0, 0, 1, 0],\n",
              "       [0, 0, 0, 0, 1]])"
            ]
          },
          "metadata": {},
          "execution_count": 24
        }
      ]
    },
    {
      "cell_type": "code",
      "source": [
        "np.diag(identity_matrix)"
      ],
      "metadata": {
        "colab": {
          "base_uri": "https://localhost:8080/"
        },
        "id": "GYU1aBe-zy0E",
        "outputId": "4943d630-a036-4e1f-fa31-4a97bb9c1f5e"
      },
      "execution_count": 25,
      "outputs": [
        {
          "output_type": "execute_result",
          "data": {
            "text/plain": [
              "array([1, 1, 1, 1, 1])"
            ]
          },
          "metadata": {},
          "execution_count": 25
        }
      ]
    },
    {
      "cell_type": "markdown",
      "source": [
        "**9. Generate a NumPy array of 100 random integers between 0 and 1000. Find and display all prime numbers in\n",
        "this array.**"
      ],
      "metadata": {
        "id": "M-_yQ8Gz0Lse"
      }
    },
    {
      "cell_type": "code",
      "source": [
        "import numpy as np\n",
        "myarr = np.random.randint(1,1000,size=100) #creating 100 random integers between 1 to 1000\n",
        "print(\"\\nRandom integers\")\n",
        "print(myarr)\n",
        "\n",
        "#function for prime checking\n",
        "def is_prime(n):\n",
        "    if n<=1:\n",
        "        return False\n",
        "    for i in range(2,int(np.sqrt(n)+1)):\n",
        "        if n%i == 0:\n",
        "            return False\n",
        "\n",
        "    return True\n",
        "prime_numbers = np.array([i for i in myarr if is_prime(i)]) #calling and iterates the function\n",
        "print(\"\\nPrime Numbers:\")\n",
        "print(prime_numbers)\n"
      ],
      "metadata": {
        "colab": {
          "base_uri": "https://localhost:8080/"
        },
        "id": "Yc0eMrmD0Crg",
        "outputId": "3798f211-3aad-4428-983d-81e7a53e8f05"
      },
      "execution_count": 6,
      "outputs": [
        {
          "output_type": "stream",
          "name": "stdout",
          "text": [
            "\n",
            "Random integers\n",
            "[640  80  33 409 244 682  19  26 137   4 994 674 641  30 949 970 802 101\n",
            "   2 157 782 178 179 744 706 993 125 713 189 371 262 552 987 612 737 343\n",
            "  37 378 404 854 776 373 481 156 195 722 952 565 342 752 836 422 544 758\n",
            " 802 127 106 446 263 873 343 311 381 323  68 309 598 195 651 754 631 698\n",
            " 993 265 451 383 215 791 941 892 989 290 377 419 745 209 166 753 700 490\n",
            " 968 355 883 181 383 455 630 903 533 115]\n",
            "\n",
            "Prime Numbers:\n",
            "[409  19 137 641 101   2 157 179  37 373 127 263 311 631 383 941 419 883\n",
            " 181 383]\n"
          ]
        }
      ]
    },
    {
      "cell_type": "markdown",
      "source": [
        "**10. Create a NumPy array representing daily temperatures for a month. Calculate and display the weekly\n",
        "averages.**"
      ],
      "metadata": {
        "id": "IRrK6yk7OMa6"
      }
    },
    {
      "cell_type": "code",
      "source": [
        "daily_temp = np.random.uniform(30,40,30)\n",
        "print(\"Daily temperature for a month: \")\n",
        "print(daily_temp)\n",
        "weekly_average = [np.mean(daily_temp[i:i+7]) for i in range(0,len(daily_temp),7)]\n",
        "\n",
        "print(\"\\nWeekly average: \")\n",
        "for i,avg in enumerate(weekly_average,1):\n",
        "  print(f'week {i}: {avg:.2f} degrees celcius')"
      ],
      "metadata": {
        "colab": {
          "base_uri": "https://localhost:8080/"
        },
        "id": "zFrL5WVx0elw",
        "outputId": "f1bdadf1-beb3-4058-f426-dd16461d7777"
      },
      "execution_count": 23,
      "outputs": [
        {
          "output_type": "stream",
          "name": "stdout",
          "text": [
            "Daily temperature for a month: \n",
            "[36.25530404 36.08919069 37.71824698 38.37238101 35.90013432 39.07616852\n",
            " 39.14563715 36.53567559 38.7168479  31.13674287 37.99727973 31.37789228\n",
            " 35.15633641 37.66883341 32.47860165 36.31548065 37.85491806 30.46648392\n",
            " 39.19869467 36.14449733 36.74662631 34.55069795 31.38284764 38.84618255\n",
            " 34.78924298 32.6885264  30.92882761 30.54715472 36.39108444 31.95941693]\n",
            "\n",
            "Weekly average: \n",
            "week 1: 37.51 degrees celcius\n",
            "week 2: 35.51 degrees celcius\n",
            "week 3: 35.60 degrees celcius\n",
            "week 4: 33.39 degrees celcius\n",
            "week 5: 34.18 degrees celcius\n"
          ]
        }
      ]
    }
  ]
}